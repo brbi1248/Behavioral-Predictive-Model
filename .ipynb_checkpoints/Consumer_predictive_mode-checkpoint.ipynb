{
 "cells": [
  {
   "cell_type": "markdown",
   "id": "ea69bee7-146f-4652-a28f-8358c8ac2047",
   "metadata": {},
   "source": [
    "# Consumer Behavior Predictive Model"
   ]
  },
  {
   "cell_type": "markdown",
   "id": "684481fa-5083-4787-bcd2-8762ced92e24",
   "metadata": {},
   "source": [
    "### This project involves analyzing and predicting consumer behavior using the \"Consumer Behavior and Shopping Habits Dataset\" from Kaggle. The goal is to clean and preprocess the data, perform statistical analysis to uncover patterns and insights, and build a predictive model using either scikit-learn or TensorFlow to forecast consumer shopping habits and preferences."
   ]
  },
  {
   "cell_type": "code",
   "execution_count": 6,
   "id": "72d97b25-64f7-45de-a240-6d5399580384",
   "metadata": {},
   "outputs": [
    {
     "name": "stderr",
     "output_type": "stream",
     "text": [
      "2024-09-12 18:52:19.529413: I tensorflow/core/platform/cpu_feature_guard.cc:193] This TensorFlow binary is optimized with oneAPI Deep Neural Network Library (oneDNN) to use the following CPU instructions in performance-critical operations:  SSE4.1 SSE4.2 AVX AVX2 AVX512F AVX512_VNNI FMA\n",
      "To enable them in other operations, rebuild TensorFlow with the appropriate compiler flags.\n",
      "2024-09-12 18:52:19.973920: I tensorflow/core/util/port.cc:104] oneDNN custom operations are on. You may see slightly different numerical results due to floating-point round-off errors from different computation orders. To turn them off, set the environment variable `TF_ENABLE_ONEDNN_OPTS=0`.\n"
     ]
    }
   ],
   "source": [
    "# import necessary packages\n",
    "import pandas as pd\n",
    "import numpy as np\n",
    "import matplotlib.pyplot as plt\n",
    "import seaborn as sns\n",
    "from sklearn.model_selection import train_test_split\n",
    "from sklearn.ensemble import RandomForestClassifier\n",
    "from sklearn.metrics import accuracy_score, classification_report, confusion_matrix\n",
    "import tensorflow as tf"
   ]
  },
  {
   "cell_type": "code",
   "execution_count": null,
   "id": "62f1c8e9-aa7b-4204-a6f9-58a2fcba14eb",
   "metadata": {},
   "outputs": [],
   "source": []
  }
 ],
 "metadata": {
  "kernelspec": {
   "display_name": "Python 3 (ipykernel)",
   "language": "python",
   "name": "python3"
  },
  "language_info": {
   "codemirror_mode": {
    "name": "ipython",
    "version": 3
   },
   "file_extension": ".py",
   "mimetype": "text/x-python",
   "name": "python",
   "nbconvert_exporter": "python",
   "pygments_lexer": "ipython3",
   "version": "3.10.8"
  }
 },
 "nbformat": 4,
 "nbformat_minor": 5
}
